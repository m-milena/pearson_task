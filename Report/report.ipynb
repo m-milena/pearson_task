{
 "cells": [
  {
   "cell_type": "markdown",
   "metadata": {},
   "source": [
    "# Pearson task recruitment report"
   ]
  },
  {
   "cell_type": "markdown",
   "metadata": {},
   "source": [
    "## Short task description\n",
    "As data scientist, I had to investigate the university's admitance criteria and then build a system to prediction students graduation probability.\n",
    "\n",
    "First I created SQL database, then I wrote python scripts, which visualized data from database. \n",
    "After data analysis, I designed simple neural network, prepared data to learn and started training it.\n",
    "When I achived preety good results, I created simple interface using PyQt to input data to check. All this steps will be described in details in the next sections in this report.\n"
   ]
  },
  {
   "cell_type": "markdown",
   "metadata": {},
   "source": [
    "## SQL Database\n",
    "Po otrzymaniu zestawu danych w pliku z rozszerzeniem csv, postanowiłam utworzyć lokalną bazę danych **sql_students** składającą się z dwóch tabel: **score_board** i **graduates**. Tabele te zostały połączone za pomocą id studenta relacją 1:n (score_board:graduates), gdzie n={0,1}. Powyższe kroki zostały zrealizowane za pomocą skryptu **sql_students.sql** umieszczonego na githubie: https://github.com/m-milena/pearson_task w lokalizacji *./Database/sql_students.sql*. Na poniższym obrazku pokazany jest model bazy danych."
   ]
  },
  {
   "cell_type": "markdown",
   "metadata": {},
   "source": [
    "<img src=\"Images/sql_db_model.png\" width=\"600\">"
   ]
  },
  {
   "cell_type": "markdown",
   "metadata": {},
   "source": [
    "## Data analysis\n",
    "Po utworzeniu bazy danych, zajęłam się pisaniem plików pythonowych, które wykonywałyby wybrane zapytania do bazy danych i następnie przedstawiały na wykresach otrzymane dane."
   ]
  },
  {
   "cell_type": "code",
   "execution_count": null,
   "metadata": {},
   "outputs": [],
   "source": []
  },
  {
   "cell_type": "code",
   "execution_count": null,
   "metadata": {},
   "outputs": [],
   "source": []
  }
 ],
 "metadata": {
  "kernelspec": {
   "display_name": "Python 3",
   "language": "python",
   "name": "python3"
  },
  "language_info": {
   "codemirror_mode": {
    "name": "ipython",
    "version": 3
   },
   "file_extension": ".py",
   "mimetype": "text/x-python",
   "name": "python",
   "nbconvert_exporter": "python",
   "pygments_lexer": "ipython3",
   "version": "3.7.1"
  }
 },
 "nbformat": 4,
 "nbformat_minor": 2
}
